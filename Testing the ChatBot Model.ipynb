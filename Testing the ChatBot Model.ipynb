{
 "cells": [
  {
   "cell_type": "code",
   "execution_count": 1,
   "id": "97efa400",
   "metadata": {},
   "outputs": [],
   "source": [
    "import json\n",
    "import numpy as np\n",
    "from tensorflow import keras\n",
    "from sklearn.preprocessing import LabelEncoder\n",
    "import colorama"
   ]
  },
  {
   "cell_type": "code",
   "execution_count": 2,
   "id": "19bf05a3",
   "metadata": {},
   "outputs": [],
   "source": [
    "colorama.init()\n",
    "from colorama import Fore,Style,Back"
   ]
  },
  {
   "cell_type": "code",
   "execution_count": 3,
   "id": "5dc20d05",
   "metadata": {},
   "outputs": [],
   "source": [
    "import random\n",
    "import pickle"
   ]
  },
  {
   "cell_type": "code",
   "execution_count": 4,
   "id": "df48964d",
   "metadata": {},
   "outputs": [],
   "source": [
    "with open(\"intents.json\") as file:\n",
    "    data = json.load(file)"
   ]
  },
  {
   "cell_type": "code",
   "execution_count": null,
   "id": "7cb446f2",
   "metadata": {},
   "outputs": [
    {
     "name": "stdout",
     "output_type": "stream",
     "text": [
      "Start Messaging with the Bot (type quit to stop)!\n",
      "User: Hi\n",
      "ChatBot: Hi there, how can I help?\n",
      "User: Who Designed you?\n",
      "ChatBot: I was developed by Devanshu Mishra\n",
      "User: College Time\n",
      "ChatBot: College is open 10am-5pm Monday-Saturday!\n",
      "User: CSE HOD\n",
      "ChatBot: Dr.Deepak Kumar Verma is CSE HOD who is available on Second Floor of CSE Building\n",
      "User: Director\n",
      "ChatBot: Dr.Brishti Mitra is College Director\n",
      "User: Hostel\n",
      "ChatBot: U.I.E.T CSJM does  provide hostel facility\n",
      "User: Facilities\n",
      "ChatBot: U.I.E.T provides fully AC Lab with internet connection, smart classroom, Auditorium, library,canteen\n",
      "User: Complaint\n",
      "ChatBot: Hello!\n",
      "User: I need Help\n",
      "ChatBot: University Institute of Engineering and Technology, CSJM University, Kanpur 208 024 (U.P.) INDIA <a target=\"_blank\" href=\"https://goo.gl/maps/xm7fNrWQuvBqwBGR9\"> here</a> \n",
      "User: menu\n",
      "ChatBot: we serve Patties, Maggie, Tea, Samosa, Coffee, Cold Drinks and many more on menu\n",
      "User: Document needed for admission\n",
      "ChatBot: To know more about document required visit <a target=\"_blank\" href=\"http://csjmu.ac.in/uiet-kanpur/admission-procedure/\"> here</a>\n",
      "User: List of Courses of the COllege\n",
      "ChatBot: U.I.E.T offers Artificial Intelligence ,ComputerScience ,Information Technology, and Mechanical Engineering.\n",
      "User: College Address\n",
      "ChatBot: University Institute of Engineering and Technology, CSJM University, Kanpur 208 024 (U.P.) INDIA <a target=\"_blank\" href=\"https://goo.gl/maps/xm7fNrWQuvBqwBGR9\"> here</a> \n",
      "User: Is there is any Library?\n",
      "ChatBot: There is Central Library of CSJMU.\n",
      "User: "
     ]
    }
   ],
   "source": [
    "def chat():\n",
    "    # Load trained Model\n",
    "    model = keras.models.load_model('chat_model')\n",
    "    \n",
    "    # Load tokenizer object\n",
    "    with open('tokenizer.pickle','rb') as handle:\n",
    "        tokenizer = pickle.load(handle)\n",
    "    # load label encoder object\n",
    "    with open('label_encoder.pickle','rb') as enc:\n",
    "        lbl_encoder = pickle.load(enc)\n",
    "    \n",
    "    #parameter\n",
    "    max_len = 20\n",
    "    \n",
    "    while True:\n",
    "        print(Fore.LIGHTBLUE_EX + \"User: \" + Style.RESET_ALL,end = \"\")\n",
    "        inp = input()\n",
    "        \n",
    "        if inp.lower() == \"quit\":\n",
    "            break\n",
    "            \n",
    "        result = model.predict(keras.preprocessing.sequence.pad_sequences(tokenizer.texts_to_sequences([inp]),\n",
    "                                    truncating = 'post',maxlen = max_len))\n",
    "        tag = lbl_encoder.inverse_transform([np.argmax(result)])\n",
    "        \n",
    "        for i in data['intents']:\n",
    "            if i['tag'] == tag:\n",
    "                print(Fore.GREEN + \"ChatBot:\" + Style.RESET_ALL,np.random.choice(i['responses']))\n",
    "            \n",
    "print(Fore.YELLOW + \"Start Messaging with the Bot (type quit to stop)!\" + Style.RESET_ALL)  \n",
    "\n",
    "chat()"
   ]
  },
  {
   "cell_type": "code",
   "execution_count": null,
   "id": "40f09d6f",
   "metadata": {},
   "outputs": [],
   "source": [
    "\n",
    "\n",
    "\n",
    "\n",
    "\n"
   ]
  }
 ],
 "metadata": {
  "kernelspec": {
   "display_name": "Python 3 (ipykernel)",
   "language": "python",
   "name": "python3"
  },
  "language_info": {
   "codemirror_mode": {
    "name": "ipython",
    "version": 3
   },
   "file_extension": ".py",
   "mimetype": "text/x-python",
   "name": "python",
   "nbconvert_exporter": "python",
   "pygments_lexer": "ipython3",
   "version": "3.10.1"
  }
 },
 "nbformat": 4,
 "nbformat_minor": 5
}
